{
  "nbformat": 4,
  "nbformat_minor": 0,
  "metadata": {
    "colab": {
      "name": "bootstrap.ipynb",
      "provenance": [],
      "collapsed_sections": [
        "6BK4qrOOjINu"
      ]
    },
    "kernelspec": {
      "name": "python3",
      "display_name": "Python 3"
    },
    "language_info": {
      "name": "python"
    }
  },
  "cells": [
    {
      "cell_type": "markdown",
      "metadata": {
        "id": "6BK4qrOOjINu"
      },
      "source": [
        "# pre-"
      ]
    },
    {
      "cell_type": "code",
      "metadata": {
        "id": "3CCxRS6YNvF6"
      },
      "source": [
        "import numpy as np\n",
        "import matplotlib.pyplot as plt"
      ],
      "execution_count": 1,
      "outputs": []
    },
    {
      "cell_type": "code",
      "metadata": {
        "id": "hYnP200vVkav"
      },
      "source": [
        "import os, requests\n",
        "\n",
        "fname = \"stringer_spontaneous.npy\"\n",
        "url = \"https://osf.io/dpqaj/download\"\n",
        "\n",
        "if not os.path.isfile(fname):\n",
        "  try:\n",
        "    r = requests.get(url)\n",
        "  except requests.ConnectionError:\n",
        "    print(\"!!! Failed to download data !!!\")\n",
        "  else:\n",
        "    if r.status_code != requests.codes.ok:\n",
        "      print(\"!!! Failed to download data !!!\")\n",
        "    else:\n",
        "      with open(fname, \"wb\") as fid:\n",
        "        fid.write(r.content)"
      ],
      "execution_count": 2,
      "outputs": []
    },
    {
      "cell_type": "code",
      "metadata": {
        "colab": {
          "base_uri": "https://localhost:8080/"
        },
        "id": "Oqugmv-OOJMD",
        "outputId": "567b3d4c-3f68-4229-b489-df74c0f9062d"
      },
      "source": [
        "dat = np.load('stringer_spontaneous.npy', allow_pickle=True).item()\n",
        "print(dat.keys())"
      ],
      "execution_count": 3,
      "outputs": [
        {
          "output_type": "stream",
          "text": [
            "dict_keys(['sresp', 'run', 'beh_svd_time', 'beh_svd_mask', 'stat', 'pupilArea', 'pupilCOM', 'xyz'])\n"
          ],
          "name": "stdout"
        }
      ]
    },
    {
      "cell_type": "markdown",
      "metadata": {
        "id": "3FlrPm6DONUg"
      },
      "source": [
        "## PCA\n",
        "done by Ruichang"
      ]
    },
    {
      "cell_type": "code",
      "metadata": {
        "id": "KVUMdMpJOS_7"
      },
      "source": [
        "from sklearn.decomposition import PCA\n",
        "\n",
        "neuron_data = dat['sresp'].T  # 7018*11983, type is np.ndarray\n",
        "\n",
        "# Figure Out Which K to Choose\n",
        "X = neuron_data - neuron_data.mean(axis=0)\n",
        "cov_matrix = (X.T@X) / X.shape[0]\n",
        "evals, evectors = np.linalg.eigh(cov_matrix)\n",
        "\n",
        "index = np.flip(np.argsort(evals))\n",
        "explained_sum = np.cumsum(evals[index])\n",
        "explained_sum_ratio = explained_sum / explained_sum.max()\n",
        "\n",
        "# select the first K whose corresponding variance explained >= variance_explained_threshold\n",
        "variance_explained_threshold = 0.9\n",
        "k_explain = np.argwhere(explained_sum_ratio>=variance_explained_threshold)\n",
        "k_chosen = k_explain[0][0]\n",
        "\n",
        "pca = PCA(n_components = k_chosen)\n",
        "neuron_data_reduced = pca.fit_transform(neuron_data)"
      ],
      "execution_count": 4,
      "outputs": []
    },
    {
      "cell_type": "markdown",
      "metadata": {
        "id": "jBmHVNaR1Dce"
      },
      "source": [
        "## StandardScaler"
      ]
    },
    {
      "cell_type": "code",
      "metadata": {
        "id": "y66fi5m-1F0o"
      },
      "source": [
        "from sklearn.preprocessing import MinMaxScaler\n",
        "scaler_run = MinMaxScaler()\n",
        "scaler_pupil = MinMaxScaler()"
      ],
      "execution_count": 64,
      "outputs": []
    },
    {
      "cell_type": "markdown",
      "metadata": {
        "id": "lTWT1AqR--9R"
      },
      "source": [
        ""
      ]
    },
    {
      "cell_type": "markdown",
      "metadata": {
        "id": "WKik59cJT04n"
      },
      "source": [
        "# Bootstrap"
      ]
    },
    {
      "cell_type": "code",
      "metadata": {
        "id": "vtR0rWt2ZiYT"
      },
      "source": [
        "# load the PCA & StandardScaler data\n",
        "X = neuron_data_reduced\n",
        "y_run = scaler_run.fit_transform(dat['run'])\n",
        "y_pupil = scaler_pupil.fit_transform(dat['pupilArea'])"
      ],
      "execution_count": 66,
      "outputs": []
    },
    {
      "cell_type": "code",
      "metadata": {
        "id": "dcnw8IwpUDvP"
      },
      "source": [
        "# bootstrap function\n",
        "def resample_with_replacement(x, y):\n",
        "  sample_idx = np.random.choice(len(y), size = len(y), replace = True ) # len(y)=7018\n",
        "\n",
        "  x_ = x[sample_idx]\n",
        "  y_ = y[sample_idx]\n",
        "\n",
        "  return x_, y_"
      ],
      "execution_count": 57,
      "outputs": []
    },
    {
      "cell_type": "markdown",
      "metadata": {
        "id": "jdeFqzsahF1l"
      },
      "source": [
        "## LASSO MODEL"
      ]
    },
    {
      "cell_type": "code",
      "metadata": {
        "id": "8reYGHlwhEKi"
      },
      "source": [
        "from sklearn import linear_model\n",
        "from sklearn.metrics import mean_squared_error"
      ],
      "execution_count": 59,
      "outputs": []
    },
    {
      "cell_type": "code",
      "metadata": {
        "colab": {
          "base_uri": "https://localhost:8080/"
        },
        "id": "CoWZmkFmhZMJ",
        "outputId": "37c547c5-3d4d-43f4-f329-c2314acde3aa"
      },
      "source": [
        "lasso_run = linear_model.Lasso(alpha=0.1)\n",
        "lasso_run.fit(X, y_run)\n",
        "lasso_pupil = linear_model.Lasso(alpha=0.1)\n",
        "lasso_pupil.fit(X, y_pupil)"
      ],
      "execution_count": 87,
      "outputs": [
        {
          "output_type": "execute_result",
          "data": {
            "text/plain": [
              "Lasso(alpha=0.1, copy_X=True, fit_intercept=True, max_iter=1000,\n",
              "      normalize=False, positive=False, precompute=False, random_state=None,\n",
              "      selection='cyclic', tol=0.0001, warm_start=False)"
            ]
          },
          "metadata": {
            "tags": []
          },
          "execution_count": 87
        }
      ]
    },
    {
      "cell_type": "code",
      "metadata": {
        "id": "Uoox2j3ahLg7"
      },
      "source": [
        "N = 1000  # bootstrap times\n",
        "\n",
        "MSE_run_lasso = []\n",
        "MSE_pupil_lasso = []\n",
        "\n",
        "for i in range(N):\n",
        "  X_run_, y_run_ = resample_with_replacement(X, y_run)\n",
        "  X_pupil_, y_pupil_ = resample_with_replacement(X, y_pupil)\n",
        "  y_run_pred_lasso = lasso_run.predict(X_run_)\n",
        "  y_pupil_pred_lasso = lasso_pupil.predict(X_pupil_)\n",
        "\n",
        "  MSE_run_lasso.append(mean_squared_error(y_run_pred_lasso, y_run_))\n",
        "  MSE_pupil_lasso.append(mean_squared_error(y_pupil_pred_lasso, y_pupil_))\n"
      ],
      "execution_count": 133,
      "outputs": []
    },
    {
      "cell_type": "code",
      "metadata": {
        "colab": {
          "base_uri": "https://localhost:8080/",
          "height": 332
        },
        "id": "VhK_hk-M6ttr",
        "outputId": "dc053568-f24e-40f9-f6db-e1cb22ae2304"
      },
      "source": [
        "print('Variance of MSE for running speed:', np.var(MSE_run_lasso))\n",
        "print('Variance of MSE for pupil area:', np.var(MSE_pupil_lasso))\n",
        "plt.figure()\n",
        "plt.boxplot([MSE_run_lasso, MSE_pupil_lasso], patch_artist=True, labels=[\"running speed\",\"pupil area\"], medianprops = {'linestyle':'--','color':'black'}, flierprops={'marker':'o','markerfacecolor':'red'})\n",
        "\n",
        "plt.ylabel('Validation MSE')\n",
        "plt.title('Bootstrap of Lasso Model')"
      ],
      "execution_count": 134,
      "outputs": [
        {
          "output_type": "stream",
          "text": [
            "Variance of MSE for running speed: 1.0168384324845235e-08\n",
            "Variance of MSE for pupil area: 2.846786692729467e-09\n"
          ],
          "name": "stdout"
        },
        {
          "output_type": "execute_result",
          "data": {
            "text/plain": [
              "Text(0.5, 1.0, 'Bootstrap of Lasso Model')"
            ]
          },
          "metadata": {
            "tags": []
          },
          "execution_count": 134
        },
        {
          "output_type": "display_data",
          "data": {
            "image/png": "[encoded data removed]",
            "text/plain": [
              "<Figure size 432x288 with 1 Axes>"
            ]
          },
          "metadata": {
            "tags": [],
            "needs_background": "light"
          }
        }
      ]
    },
    {
      "cell_type": "markdown",
      "metadata": {
        "id": "dF1aZ48ke5sV"
      },
      "source": [
        "## RIDGE MODEL"
      ]
    },
    {
      "cell_type": "code",
      "metadata": {
        "colab": {
          "base_uri": "https://localhost:8080/"
        },
        "id": "eUMnIEHj7H-7",
        "outputId": "9eb4f7c3-5715-4496-c301-8d3f6c196191"
      },
      "source": [
        "ridge_run = linear_model.Ridge(alpha=0.1)\n",
        "ridge_run.fit(X, y_run)\n",
        "ridge_pupil = linear_model.Ridge(alpha=0.1)\n",
        "ridge_pupil.fit(X, y_pupil)"
      ],
      "execution_count": 137,
      "outputs": [
        {
          "output_type": "execute_result",
          "data": {
            "text/plain": [
              "Ridge(alpha=0.1, copy_X=True, fit_intercept=True, max_iter=None,\n",
              "      normalize=False, random_state=None, solver='auto', tol=0.001)"
            ]
          },
          "metadata": {
            "tags": []
          },
          "execution_count": 137
        }
      ]
    },
    {
      "cell_type": "code",
      "metadata": {
        "id": "HVojPEsJ8LD_"
      },
      "source": [
        "N = 1000  # bootstrap times\n",
        "\n",
        "MSE_run_ridge = []\n",
        "MSE_pupil_ridge = []\n",
        "\n",
        "for i in range(N):\n",
        "  X_run_, y_run_ = resample_with_replacement(X, y_run)\n",
        "  X_pupil_, y_pupil_ = resample_with_replacement(X, y_pupil)\n",
        "  y_run_pred_ridge = ridge_run.predict(X_run_)\n",
        "  y_pupil_pred_ridge = ridge_pupil.predict(X_pupil_)\n",
        "\n",
        "  MSE_run_ridge.append(mean_squared_error(y_run_pred, y_run_))\n",
        "  MSE_pupil_ridge.append(mean_squared_error(y_pupil_pred, y_pupil_))"
      ],
      "execution_count": 138,
      "outputs": []
    },
    {
      "cell_type": "code",
      "metadata": {
        "colab": {
          "base_uri": "https://localhost:8080/",
          "height": 332
        },
        "id": "M4isSzp19Uiw",
        "outputId": "20990e4c-da71-4ed9-e0c6-a6c605cd2e15"
      },
      "source": [
        "print('Variance of MSE for running speed:', np.var(MSE_run_ridge))\n",
        "print('Variance of MSE for pupil area:', np.var(MSE_pupil_ridge))\n",
        "plt.figure()\n",
        "plt.boxplot([MSE_run_lasso, MSE_pupil_lasso], patch_artist=True, labels=[\"running speed\",\"pupil area\"], medianprops = {'linestyle':'--','color':'black'}, flierprops={'marker':'o','markerfacecolor':'red'})\n",
        "\n",
        "plt.ylabel('Validation MSE')\n",
        "plt.title('Bootstrap of Ridge Model')"
      ],
      "execution_count": 136,
      "outputs": [
        {
          "output_type": "stream",
          "text": [
            "Variance of MSE for running speed: 1.020364886169751e-06\n",
            "Variance of MSE for pupil area: 5.78400979537755e-07\n"
          ],
          "name": "stdout"
        },
        {
          "output_type": "execute_result",
          "data": {
            "text/plain": [
              "Text(0.5, 1.0, 'Bootstrap of Ridge Model')"
            ]
          },
          "metadata": {
            "tags": []
          },
          "execution_count": 136
        },
        {
          "output_type": "display_data",
          "data": {
            "image/png": "[encoded data removed]",
            "text/plain": [
              "<Figure size 432x288 with 1 Axes>"
            ]
          },
          "metadata": {
            "tags": [],
            "needs_background": "light"
          }
        }
      ]
    }
  ]
}